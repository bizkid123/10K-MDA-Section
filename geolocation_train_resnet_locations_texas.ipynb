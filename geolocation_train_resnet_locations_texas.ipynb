{
  "cells": [
    {
      "cell_type": "code",
      "execution_count": null,
      "metadata": {
        "colab": {
          "base_uri": "https://localhost:8080/"
        },
        "id": "wwcHfB0DBf2c",
        "outputId": "f3cda4e7-7063-4800-f06e-946263e86b73"
      },
      "outputs": [
        {
          "output_type": "stream",
          "name": "stdout",
          "text": [
            "Reading package lists... Done\n",
            "Building dependency tree       \n",
            "Reading state information... Done\n",
            "unzip is already the newest version (6.0-25ubuntu1.1).\n",
            "0 upgraded, 0 newly installed, 0 to remove and 24 not upgraded.\n"
          ]
        }
      ],
      "source": [
        "!apt install unzip"
      ]
    },
    {
      "cell_type": "code",
      "execution_count": null,
      "metadata": {
        "colab": {
          "base_uri": "https://localhost:8080/"
        },
        "id": "ao9KZpiOBOch",
        "outputId": "67b34dcc-4d1b-4b20-bc06-a8c482fc14dc"
      },
      "outputs": [
        {
          "output_type": "stream",
          "name": "stdout",
          "text": [
            "Looking in indexes: https://pypi.org/simple, https://us-python.pkg.dev/colab-wheels/public/simple/\n",
            "Collecting wandb\n",
            "  Downloading wandb-0.15.1-py3-none-any.whl (2.0 MB)\n",
            "\u001b[2K     \u001b[90m━━━━━━━━━━━━━━━━━━━━━━━━━━━━━━━━━━━━━━━━\u001b[0m \u001b[32m2.0/2.0 MB\u001b[0m \u001b[31m40.6 MB/s\u001b[0m eta \u001b[36m0:00:00\u001b[0m\n",
            "\u001b[?25hRequirement already satisfied: setuptools in /usr/local/lib/python3.10/dist-packages (from wandb) (67.7.2)\n",
            "Requirement already satisfied: PyYAML in /usr/local/lib/python3.10/dist-packages (from wandb) (6.0)\n",
            "Collecting setproctitle\n",
            "  Downloading setproctitle-1.3.2-cp310-cp310-manylinux_2_5_x86_64.manylinux1_x86_64.manylinux_2_17_x86_64.manylinux2014_x86_64.whl (30 kB)\n",
            "Requirement already satisfied: protobuf!=4.21.0,<5,>=3.19.0 in /usr/local/lib/python3.10/dist-packages (from wandb) (3.20.3)\n",
            "Collecting pathtools\n",
            "  Downloading pathtools-0.1.2.tar.gz (11 kB)\n",
            "  Preparing metadata (setup.py) ... \u001b[?25l\u001b[?25hdone\n",
            "Collecting GitPython!=3.1.29,>=1.0.0\n",
            "  Downloading GitPython-3.1.31-py3-none-any.whl (184 kB)\n",
            "\u001b[2K     \u001b[90m━━━━━━━━━━━━━━━━━━━━━━━━━━━━━━━━━━━━━━\u001b[0m \u001b[32m184.3/184.3 kB\u001b[0m \u001b[31m13.3 MB/s\u001b[0m eta \u001b[36m0:00:00\u001b[0m\n",
            "\u001b[?25hRequirement already satisfied: appdirs>=1.4.3 in /usr/local/lib/python3.10/dist-packages (from wandb) (1.4.4)\n",
            "Collecting sentry-sdk>=1.0.0\n",
            "  Downloading sentry_sdk-1.21.1-py2.py3-none-any.whl (201 kB)\n",
            "\u001b[2K     \u001b[90m━━━━━━━━━━━━━━━━━━━━━━━━━━━━━━━━━━━━━━\u001b[0m \u001b[32m201.7/201.7 kB\u001b[0m \u001b[31m11.2 MB/s\u001b[0m eta \u001b[36m0:00:00\u001b[0m\n",
            "\u001b[?25hRequirement already satisfied: Click!=8.0.0,>=7.0 in /usr/local/lib/python3.10/dist-packages (from wandb) (8.1.3)\n",
            "Requirement already satisfied: psutil>=5.0.0 in /usr/local/lib/python3.10/dist-packages (from wandb) (5.9.5)\n",
            "Requirement already satisfied: requests<3,>=2.0.0 in /usr/local/lib/python3.10/dist-packages (from wandb) (2.27.1)\n",
            "Collecting docker-pycreds>=0.4.0\n",
            "  Downloading docker_pycreds-0.4.0-py2.py3-none-any.whl (9.0 kB)\n",
            "Requirement already satisfied: six>=1.4.0 in /usr/local/lib/python3.10/dist-packages (from docker-pycreds>=0.4.0->wandb) (1.16.0)\n",
            "Collecting gitdb<5,>=4.0.1\n",
            "  Downloading gitdb-4.0.10-py3-none-any.whl (62 kB)\n",
            "\u001b[2K     \u001b[90m━━━━━━━━━━━━━━━━━━━━━━━━━━━━━━━━━━━━━━━━\u001b[0m \u001b[32m62.7/62.7 kB\u001b[0m \u001b[31m3.4 MB/s\u001b[0m eta \u001b[36m0:00:00\u001b[0m\n",
            "\u001b[?25hRequirement already satisfied: urllib3<1.27,>=1.21.1 in /usr/local/lib/python3.10/dist-packages (from requests<3,>=2.0.0->wandb) (1.26.15)\n",
            "Requirement already satisfied: idna<4,>=2.5 in /usr/local/lib/python3.10/dist-packages (from requests<3,>=2.0.0->wandb) (3.4)\n",
            "Requirement already satisfied: charset-normalizer~=2.0.0 in /usr/local/lib/python3.10/dist-packages (from requests<3,>=2.0.0->wandb) (2.0.12)\n",
            "Requirement already satisfied: certifi>=2017.4.17 in /usr/local/lib/python3.10/dist-packages (from requests<3,>=2.0.0->wandb) (2022.12.7)\n",
            "Collecting smmap<6,>=3.0.1\n",
            "  Downloading smmap-5.0.0-py3-none-any.whl (24 kB)\n",
            "Building wheels for collected packages: pathtools\n",
            "  Building wheel for pathtools (setup.py) ... \u001b[?25l\u001b[?25hdone\n",
            "  Created wheel for pathtools: filename=pathtools-0.1.2-py3-none-any.whl size=8807 sha256=02eec9332f49fc8cef9f590870cdf8d30314fdc4488d825bbbbb68bd4f6c7837\n",
            "  Stored in directory: /root/.cache/pip/wheels/e7/f3/22/152153d6eb222ee7a56ff8617d80ee5207207a8c00a7aab794\n",
            "Successfully built pathtools\n",
            "Installing collected packages: pathtools, smmap, setproctitle, sentry-sdk, docker-pycreds, gitdb, GitPython, wandb\n",
            "Successfully installed GitPython-3.1.31 docker-pycreds-0.4.0 gitdb-4.0.10 pathtools-0.1.2 sentry-sdk-1.21.1 setproctitle-1.3.2 smmap-5.0.0 wandb-0.15.1\n"
          ]
        }
      ],
      "source": [
        "!pip install wandb"
      ]
    },
    {
      "cell_type": "code",
      "execution_count": null,
      "metadata": {
        "colab": {
          "base_uri": "https://localhost:8080/"
        },
        "id": "pE-FlAGyqo98",
        "outputId": "69bb9cdc-1453-4a68-8ebf-1a3e205512ae"
      },
      "outputs": [
        {
          "output_type": "stream",
          "name": "stdout",
          "text": [
            "Looking in indexes: https://pypi.org/simple, https://us-python.pkg.dev/colab-wheels/public/simple/\n",
            "Collecting timm\n",
            "  Downloading timm-0.6.13-py3-none-any.whl (549 kB)\n",
            "\u001b[2K     \u001b[90m━━━━━━━━━━━━━━━━━━━━━━━━━━━━━━━━━━━━━━\u001b[0m \u001b[32m549.1/549.1 kB\u001b[0m \u001b[31m22.7 MB/s\u001b[0m eta \u001b[36m0:00:00\u001b[0m\n",
            "\u001b[?25hCollecting huggingface-hub\n",
            "  Downloading huggingface_hub-0.14.1-py3-none-any.whl (224 kB)\n",
            "\u001b[2K     \u001b[90m━━━━━━━━━━━━━━━━━━━━━━━━━━━━━━━━━━━━━━\u001b[0m \u001b[32m224.5/224.5 kB\u001b[0m \u001b[31m21.7 MB/s\u001b[0m eta \u001b[36m0:00:00\u001b[0m\n",
            "\u001b[?25hRequirement already satisfied: pyyaml in /usr/local/lib/python3.10/dist-packages (from timm) (6.0)\n",
            "Requirement already satisfied: torchvision in /usr/local/lib/python3.10/dist-packages (from timm) (0.15.1+cu118)\n",
            "Requirement already satisfied: torch>=1.7 in /usr/local/lib/python3.10/dist-packages (from timm) (2.0.0+cu118)\n",
            "Requirement already satisfied: sympy in /usr/local/lib/python3.10/dist-packages (from torch>=1.7->timm) (1.11.1)\n",
            "Requirement already satisfied: networkx in /usr/local/lib/python3.10/dist-packages (from torch>=1.7->timm) (3.1)\n",
            "Requirement already satisfied: jinja2 in /usr/local/lib/python3.10/dist-packages (from torch>=1.7->timm) (3.1.2)\n",
            "Requirement already satisfied: filelock in /usr/local/lib/python3.10/dist-packages (from torch>=1.7->timm) (3.12.0)\n",
            "Requirement already satisfied: triton==2.0.0 in /usr/local/lib/python3.10/dist-packages (from torch>=1.7->timm) (2.0.0)\n",
            "Requirement already satisfied: typing-extensions in /usr/local/lib/python3.10/dist-packages (from torch>=1.7->timm) (4.5.0)\n",
            "Requirement already satisfied: lit in /usr/local/lib/python3.10/dist-packages (from triton==2.0.0->torch>=1.7->timm) (16.0.2)\n",
            "Requirement already satisfied: cmake in /usr/local/lib/python3.10/dist-packages (from triton==2.0.0->torch>=1.7->timm) (3.25.2)\n",
            "Requirement already satisfied: packaging>=20.9 in /usr/local/lib/python3.10/dist-packages (from huggingface-hub->timm) (23.1)\n",
            "Requirement already satisfied: fsspec in /usr/local/lib/python3.10/dist-packages (from huggingface-hub->timm) (2023.4.0)\n",
            "Requirement already satisfied: tqdm>=4.42.1 in /usr/local/lib/python3.10/dist-packages (from huggingface-hub->timm) (4.65.0)\n",
            "Requirement already satisfied: requests in /usr/local/lib/python3.10/dist-packages (from huggingface-hub->timm) (2.27.1)\n",
            "Requirement already satisfied: pillow!=8.3.*,>=5.3.0 in /usr/local/lib/python3.10/dist-packages (from torchvision->timm) (8.4.0)\n",
            "Requirement already satisfied: numpy in /usr/local/lib/python3.10/dist-packages (from torchvision->timm) (1.22.4)\n",
            "Requirement already satisfied: MarkupSafe>=2.0 in /usr/local/lib/python3.10/dist-packages (from jinja2->torch>=1.7->timm) (2.1.2)\n",
            "Requirement already satisfied: urllib3<1.27,>=1.21.1 in /usr/local/lib/python3.10/dist-packages (from requests->huggingface-hub->timm) (1.26.15)\n",
            "Requirement already satisfied: charset-normalizer~=2.0.0 in /usr/local/lib/python3.10/dist-packages (from requests->huggingface-hub->timm) (2.0.12)\n",
            "Requirement already satisfied: certifi>=2017.4.17 in /usr/local/lib/python3.10/dist-packages (from requests->huggingface-hub->timm) (2022.12.7)\n",
            "Requirement already satisfied: idna<4,>=2.5 in /usr/local/lib/python3.10/dist-packages (from requests->huggingface-hub->timm) (3.4)\n",
            "Requirement already satisfied: mpmath>=0.19 in /usr/local/lib/python3.10/dist-packages (from sympy->torch>=1.7->timm) (1.3.0)\n",
            "Installing collected packages: huggingface-hub, timm\n",
            "Successfully installed huggingface-hub-0.14.1 timm-0.6.13\n"
          ]
        }
      ],
      "source": [
        "!pip install timm"
      ]
    },
    {
      "cell_type": "code",
      "execution_count": null,
      "metadata": {
        "colab": {
          "base_uri": "https://localhost:8080/"
        },
        "id": "C6OqhF9rq6Tv",
        "outputId": "c0c3195c-8183-42cb-b87e-38e7707220e4"
      },
      "outputs": [
        {
          "output_type": "stream",
          "name": "stdout",
          "text": [
            "Looking in indexes: https://pypi.org/simple, https://us-python.pkg.dev/colab-wheels/public/simple/\n",
            "Collecting open_clip_torch\n",
            "  Downloading open_clip_torch-2.18.0-py3-none-any.whl (1.5 MB)\n",
            "\u001b[2K     \u001b[90m━━━━━━━━━━━━━━━━━━━━━━━━━━━━━━━━━━━━━━━━\u001b[0m \u001b[32m1.5/1.5 MB\u001b[0m \u001b[31m40.3 MB/s\u001b[0m eta \u001b[36m0:00:00\u001b[0m\n",
            "\u001b[?25hRequirement already satisfied: torchvision in /usr/local/lib/python3.10/dist-packages (from open_clip_torch) (0.15.1+cu118)\n",
            "Requirement already satisfied: regex in /usr/local/lib/python3.10/dist-packages (from open_clip_torch) (2022.10.31)\n",
            "Requirement already satisfied: huggingface-hub in /usr/local/lib/python3.10/dist-packages (from open_clip_torch) (0.14.1)\n",
            "Requirement already satisfied: protobuf<4 in /usr/local/lib/python3.10/dist-packages (from open_clip_torch) (3.20.3)\n",
            "Collecting ftfy\n",
            "  Downloading ftfy-6.1.1-py3-none-any.whl (53 kB)\n",
            "\u001b[2K     \u001b[90m━━━━━━━━━━━━━━━━━━━━━━━━━━━━━━━━━━━━━━━━\u001b[0m \u001b[32m53.1/53.1 kB\u001b[0m \u001b[31m8.0 MB/s\u001b[0m eta \u001b[36m0:00:00\u001b[0m\n",
            "\u001b[?25hRequirement already satisfied: torch>=1.9.0 in /usr/local/lib/python3.10/dist-packages (from open_clip_torch) (2.0.0+cu118)\n",
            "Requirement already satisfied: tqdm in /usr/local/lib/python3.10/dist-packages (from open_clip_torch) (4.65.0)\n",
            "Requirement already satisfied: timm in /usr/local/lib/python3.10/dist-packages (from open_clip_torch) (0.6.13)\n",
            "Collecting sentencepiece\n",
            "  Downloading sentencepiece-0.1.99-cp310-cp310-manylinux_2_17_x86_64.manylinux2014_x86_64.whl (1.3 MB)\n",
            "\u001b[2K     \u001b[90m━━━━━━━━━━━━━━━━━━━━━━━━━━━━━━━━━━━━━━━━\u001b[0m \u001b[32m1.3/1.3 MB\u001b[0m \u001b[31m73.5 MB/s\u001b[0m eta \u001b[36m0:00:00\u001b[0m\n",
            "\u001b[?25hRequirement already satisfied: sympy in /usr/local/lib/python3.10/dist-packages (from torch>=1.9.0->open_clip_torch) (1.11.1)\n",
            "Requirement already satisfied: jinja2 in /usr/local/lib/python3.10/dist-packages (from torch>=1.9.0->open_clip_torch) (3.1.2)\n",
            "Requirement already satisfied: triton==2.0.0 in /usr/local/lib/python3.10/dist-packages (from torch>=1.9.0->open_clip_torch) (2.0.0)\n",
            "Requirement already satisfied: networkx in /usr/local/lib/python3.10/dist-packages (from torch>=1.9.0->open_clip_torch) (3.1)\n",
            "Requirement already satisfied: typing-extensions in /usr/local/lib/python3.10/dist-packages (from torch>=1.9.0->open_clip_torch) (4.5.0)\n",
            "Requirement already satisfied: filelock in /usr/local/lib/python3.10/dist-packages (from torch>=1.9.0->open_clip_torch) (3.12.0)\n",
            "Requirement already satisfied: lit in /usr/local/lib/python3.10/dist-packages (from triton==2.0.0->torch>=1.9.0->open_clip_torch) (16.0.2)\n",
            "Requirement already satisfied: cmake in /usr/local/lib/python3.10/dist-packages (from triton==2.0.0->torch>=1.9.0->open_clip_torch) (3.25.2)\n",
            "Requirement already satisfied: wcwidth>=0.2.5 in /usr/local/lib/python3.10/dist-packages (from ftfy->open_clip_torch) (0.2.6)\n",
            "Requirement already satisfied: packaging>=20.9 in /usr/local/lib/python3.10/dist-packages (from huggingface-hub->open_clip_torch) (23.1)\n",
            "Requirement already satisfied: pyyaml>=5.1 in /usr/local/lib/python3.10/dist-packages (from huggingface-hub->open_clip_torch) (6.0)\n",
            "Requirement already satisfied: fsspec in /usr/local/lib/python3.10/dist-packages (from huggingface-hub->open_clip_torch) (2023.4.0)\n",
            "Requirement already satisfied: requests in /usr/local/lib/python3.10/dist-packages (from huggingface-hub->open_clip_torch) (2.27.1)\n",
            "Requirement already satisfied: pillow!=8.3.*,>=5.3.0 in /usr/local/lib/python3.10/dist-packages (from torchvision->open_clip_torch) (8.4.0)\n",
            "Requirement already satisfied: numpy in /usr/local/lib/python3.10/dist-packages (from torchvision->open_clip_torch) (1.22.4)\n",
            "Requirement already satisfied: MarkupSafe>=2.0 in /usr/local/lib/python3.10/dist-packages (from jinja2->torch>=1.9.0->open_clip_torch) (2.1.2)\n",
            "Requirement already satisfied: charset-normalizer~=2.0.0 in /usr/local/lib/python3.10/dist-packages (from requests->huggingface-hub->open_clip_torch) (2.0.12)\n",
            "Requirement already satisfied: idna<4,>=2.5 in /usr/local/lib/python3.10/dist-packages (from requests->huggingface-hub->open_clip_torch) (3.4)\n",
            "Requirement already satisfied: certifi>=2017.4.17 in /usr/local/lib/python3.10/dist-packages (from requests->huggingface-hub->open_clip_torch) (2022.12.7)\n",
            "Requirement already satisfied: urllib3<1.27,>=1.21.1 in /usr/local/lib/python3.10/dist-packages (from requests->huggingface-hub->open_clip_torch) (1.26.15)\n",
            "Requirement already satisfied: mpmath>=0.19 in /usr/local/lib/python3.10/dist-packages (from sympy->torch>=1.9.0->open_clip_torch) (1.3.0)\n",
            "Installing collected packages: sentencepiece, ftfy, open_clip_torch\n",
            "Successfully installed ftfy-6.1.1 open_clip_torch-2.18.0 sentencepiece-0.1.99\n"
          ]
        }
      ],
      "source": [
        "!pip install open_clip_torch"
      ]
    },
    {
      "cell_type": "code",
      "execution_count": null,
      "metadata": {
        "id": "uCL6nz4przjI"
      },
      "outputs": [],
      "source": [
        "%load_ext autoreload\n",
        "%autoreload 2"
      ]
    },
    {
      "cell_type": "code",
      "execution_count": null,
      "metadata": {
        "id": "zslQsDOwsLII"
      },
      "outputs": [],
      "source": [
        "import timm"
      ]
    },
    {
      "cell_type": "code",
      "execution_count": null,
      "metadata": {
        "id": "5GdXUh92BMWu"
      },
      "outputs": [],
      "source": [
        "import wandb\n",
        "import torchvision as tv\n",
        "import fastai\n",
        "from fastai.vision.all import *\n",
        "from fastai.callback.wandb import WandbCallback\n",
        "import open_clip\n"
      ]
    },
    {
      "cell_type": "code",
      "execution_count": null,
      "metadata": {
        "colab": {
          "base_uri": "https://localhost:8080/"
        },
        "id": "9OMrK408CiBi",
        "outputId": "587d8d3e-6b70-46cd-d0b3-097a6d343898"
      },
      "outputs": [
        {
          "output_type": "stream",
          "name": "stdout",
          "text": [
            "Mounted at /content/drive\n"
          ]
        }
      ],
      "source": [
        "from google.colab import drive\n",
        "drive.mount('/content/drive', force_remount=True)"
      ]
    },
    {
      "cell_type": "code",
      "execution_count": null,
      "metadata": {
        "id": "NyaE_r2FD7ky"
      },
      "outputs": [],
      "source": [
        "!unzip -qq '/content/drive/My Drive/Geolocation/50States10K.zip' -d '/content/geolocation'"
      ]
    },
    {
      "cell_type": "code",
      "source": [
        "def fix_arizona():\n",
        "    with open(\"/content/geolocation/Arizona/info.txt\", \"r\") as f:\n",
        "        lines = f.readlines()\n",
        "        new_lines = []\n",
        "        for line in lines:\n",
        "            if \"2011_MM600o0TQG-zhtazRWKXeA_0.jpg\" in line:\n",
        "                new_lines.append(\"2011_MM600o0TQG-zhtazRWKXeA_0.jpg\\n\")\n",
        "                new_lines.append(\"33.426471 -111.594295\\n\")\n",
        "            else:\n",
        "                new_lines.append(line)\n",
        "    with open(\"/content/geolocation/Arizona/info.txt\", \"w\") as f:\n",
        "        f.writelines(new_lines)\n",
        "\n",
        "fix_arizona()"
      ],
      "metadata": {
        "id": "auJRlocxukDZ"
      },
      "execution_count": null,
      "outputs": []
    },
    {
      "cell_type": "code",
      "source": [
        "for state in os.listdir(\"/content/geolocation\"):\n",
        "    print(state)\n",
        "    if not os.path.exists(f\"/content/geolocation/{state}/info.txt\"):\n",
        "        continue\n",
        "    with open(f\"/content/geolocation/{state}/info.txt\", \"r\") as f:\n",
        "        flag = False\n",
        "    \n",
        "        for line in f.readlines():\n",
        "            if len(line.split()) > 2:\n",
        "              print(line)\n",
        "            "
      ],
      "metadata": {
        "colab": {
          "base_uri": "https://localhost:8080/"
        },
        "id": "pvfyLa9a6fXb",
        "outputId": "80f7f909-3fe2-421c-9518-1b798a17c081"
      },
      "execution_count": null,
      "outputs": [
        {
          "output_type": "stream",
          "name": "stdout",
          "text": [
            "Maine\n",
            "Vermont\n",
            "Alabama\n",
            "Hawaii\n",
            "New Jersey\n",
            "Pennsylvania\n",
            "Virginia\n",
            "Oklahoma\n",
            "Tennessee\n",
            "Iowa\n",
            "Idaho\n",
            "Minnesota\n",
            "Arizona\n",
            "West Virginia\n",
            "Georgia\n",
            "Nevada\n",
            "Wyoming\n",
            "North Dakota\n",
            "South Carolina\n",
            "Massachusetts\n",
            "Connecticut\n",
            "Washington\n",
            "Colorado\n",
            "Rhode Island\n",
            "Alaska\n",
            "Louisiana\n",
            "Missouri\n",
            "Montana\n",
            "Kentucky\n",
            "North Carolina\n",
            "New York\n",
            "Arkansas\n",
            "New Mexico\n",
            "Wisconsin\n",
            "New Hampshire\n",
            "Kansas\n",
            "Oregon\n",
            "Nebraska\n",
            "California\n",
            "Michigan\n",
            "Utah\n",
            "South Dakota\n",
            "Florida\n",
            "Mississippi\n",
            "Indiana\n",
            "Maryland\n",
            "Delaware\n",
            "Ohio\n",
            "Illinois\n",
            "Texas\n"
          ]
        }
      ]
    },
    {
      "cell_type": "code",
      "execution_count": null,
      "metadata": {
        "colab": {
          "base_uri": "https://localhost:8080/"
        },
        "id": "Y68nPmBeExDh",
        "outputId": "1ead2a6a-52b1-4569-cf6c-e3aa012c19a2"
      },
      "outputs": [
        {
          "output_type": "execute_result",
          "data": {
            "text/plain": [
              "device(type='cuda')"
            ]
          },
          "metadata": {},
          "execution_count": 12
        }
      ],
      "source": [
        "device = torch.device(\"cuda\" if torch.cuda.is_available() else \"cpu\")\n",
        "device"
      ]
    },
    {
      "cell_type": "code",
      "execution_count": null,
      "metadata": {
        "id": "S6FmhxahqSEI"
      },
      "outputs": [],
      "source": [
        "config = SimpleNamespace(\n",
        "    batch_size=32,\n",
        "    img_size=224,\n",
        "    seed=42,\n",
        "    pretrained=False,\n",
        "    normalize=True,\n",
        "    model_name=\"resnet18\",\n",
        "    epochs=10,                                 # FIX THIS LATER\n",
        "    learning_rate=2e-3,\n",
        "    resize=\"crop\",\n",
        ")"
      ]
    },
    {
      "cell_type": "code",
      "source": [
        "import torch\n",
        "import torch.nn as nn\n",
        "\n",
        "class EquirectangularDistanceLoss(nn.Module):\n",
        "    def __init__(self):\n",
        "        super(EquirectangularDistanceLoss, self).__init__()\n",
        "\n",
        "    def forward(self, preds, targets):\n",
        "        # Convert latitude and longitude from degrees to radians\n",
        "        lat1, lon1 = torch.deg2rad(preds[:, 0]), torch.deg2rad(preds[:, 1])\n",
        "        lat2, lon2 = torch.deg2rad(targets[:, 0]), torch.deg2rad(targets[:, 1])\n",
        "\n",
        "        # Equirectangular approximation constants\n",
        "        R = 6371  # Earth's mean radius in km\n",
        "        x = (lon2 - lon1) * torch.cos((lat1 + lat2) / 2)\n",
        "        y = lat2 - lat1\n",
        "\n",
        "        # Compute equirectangular distance\n",
        "        distance = torch.sqrt(x**2 + y**2) * R\n",
        "\n",
        "        # Return mean distance error as the loss\n",
        "        return distance.mean()\n"
      ],
      "metadata": {
        "id": "g7HTbvrCaTou"
      },
      "execution_count": null,
      "outputs": []
    },
    {
      "cell_type": "code",
      "source": [
        "def fix_path(path):\n",
        "    tmp = path.strip().split('/')[-1]\n",
        "    return tmp\n",
        "\n",
        "def get_missing_labels(path):\n",
        "    files = os.listdir(path)\n",
        "    existing_labels = []\n",
        "    # Load info.txt\n",
        "    with open(os.path.join(path, \"info.txt\"), \"r\") as f:\n",
        "        lines = f.readlines()\n",
        "        for line in lines:\n",
        "            if \"jpg\" in line:\n",
        "                existing_labels.append(fix_path(line))\n",
        "                \n",
        "    missing_labels = [file for file in files if file not in existing_labels]\n",
        "    return missing_labels"
      ],
      "metadata": {
        "id": "1GSyFDEEeUCz"
      },
      "execution_count": null,
      "outputs": []
    },
    {
      "cell_type": "code",
      "source": [
        "from fastai.vision.all import *\n",
        "\n",
        "def get_regression_dataset_state(state):\n",
        "    missing_labels = get_missing_labels(f\"/content/geolocation/{state}\")\n",
        "    def get_image_files_with_txt(path):\n",
        "        return [f for f in get_image_files(path) if f.name not in missing_labels]\n",
        "    \n",
        "    def fix_path(path):\n",
        "        tmp = path.strip().split('/')[-1]\n",
        "        return tmp\n",
        "\n",
        "    def get_regression_label(o):\n",
        "        txt_file = o.parent / 'info.txt'\n",
        "        lines = [fix_path(file) if \"jpg\" in file else file for file in txt_file.read_text().split('\\n')]\n",
        "        img_name = o.name\n",
        "        if img_name in lines:\n",
        "            idx = lines.index(img_name)\n",
        "            coords = lines[idx + 1]\n",
        "            x, y = map(float, coords.split())\n",
        "            return tensor([x, y]).float()\n",
        "        else:\n",
        "            print(f\"Missing label for {img_name}\")\n",
        "            return None\n",
        "\n",
        "\n",
        "    def filter_unlabeled_images(files):\n",
        "        return [f for f in files if f.name not in missing_labels]\n",
        "\n",
        "\n",
        "    path = Path('/content/geolocation')\n",
        "    specific_class_path = path / state\n",
        "    fnames = get_image_files_with_txt(specific_class_path)\n",
        "\n",
        "    dblock = DataBlock(blocks=(ImageBlock, RegressionBlock),\n",
        "                       get_items=get_image_files_with_txt,\n",
        "                       get_y=get_regression_label,\n",
        "                       splitter=RandomSplitter())\n",
        "\n",
        "    dls = dblock.dataloaders(specific_class_path)\n",
        "\n",
        "    return dls\n",
        "\n",
        "dls = get_regression_dataset_state('Texas')"
      ],
      "metadata": {
        "id": "uh7OPF1Pbg9D"
      },
      "execution_count": null,
      "outputs": []
    },
    {
      "cell_type": "code",
      "execution_count": null,
      "metadata": {
        "colab": {
          "base_uri": "https://localhost:8080/"
        },
        "id": "lElvRPWko2Xr",
        "outputId": "1bf638de-8e5f-4dc4-99b3-d16e9996865e"
      },
      "outputs": [
        {
          "output_type": "stream",
          "name": "stdout",
          "text": [
            "Num classes = 2\n",
            "8000 2000\n"
          ]
        }
      ],
      "source": [
        "def load_data():\n",
        "  resize_method = ResizeMethod.Squish if config.resize == \"squish\" else ResizeMethod.Crop\n",
        "  # dls = get_regression_dataset_ignore_classes('/content/geolocation', 0.2, config.seed, config.batch_size, False, config.img_size, resize_method)\n",
        "\n",
        "  mean, std = (0.48145466, 0.4578275, 0.40821073), (\n",
        "      0.26862954,\n",
        "      0.26130258,\n",
        "      0.27577711,\n",
        "  )\n",
        "\n",
        "  if config.normalize:\n",
        "      dls.add_tfms([Normalize.from_stats(mean, std)], \"after_batch\")\n",
        "\n",
        "  return dls\n",
        "\n",
        "dls = load_data()\n",
        "print(\"Num classes =\", dls.c)\n",
        "print(len(dls.train_ds), len(dls.valid_ds))\n"
      ]
    },
    {
      "cell_type": "code",
      "source": [
        "# callback = WandbCallback(log_preds=True, log_preds_every_epoch=True, log_model=True)\n",
        "from fastai.callback.wandb import log_model\n",
        "def new_after_epoch(self):\n",
        "  \"Log validation loss and custom metrics & log prediction samples\"\n",
        "  # Correct any epoch rounding error and overwrite value\n",
        "  self._wandb_epoch = round(self._wandb_epoch)\n",
        "  if self.log_preds and self.log_preds_every_epoch:\n",
        "      self.log_predictions()\n",
        "  wandb.log({'epoch': self._wandb_epoch}, step=self._wandb_step)\n",
        "  wandb.log({n:s for n,s in zip(self.recorder.metric_names, self.recorder.log) if n not in ['train_loss', 'epoch', 'time']}, step=self._wandb_step)\n",
        "\n",
        "\n",
        "  name = f\"{learn.cbs[-2].fname}_epoch_{self._wandb_epoch}\"\n",
        "  learn.save(name, with_opt=True)\n",
        "  # metadata = {n:s for n,s in zip(self.recorder.metric_names, self.recorder.log) if n not in ['train_loss', 'epoch', 'time']}\n",
        "  # log_model(self.save_model.last_saved_path, name=self.save_model.fname, metadata=metadata) \n",
        "  # log_model(f\"{name}.pth\", name=self.save_model.fname+self._wandb_epoch, metadata=metadata)     \n",
        "\n",
        "\n",
        "\n",
        "WandbCallback.after_epoch = new_after_epoch"
      ],
      "metadata": {
        "id": "1AmuqO1yJ_px"
      },
      "execution_count": null,
      "outputs": []
    },
    {
      "cell_type": "code",
      "execution_count": null,
      "metadata": {
        "id": "YJutFP2Iuk7y"
      },
      "outputs": [],
      "source": [
        "train_cbs = [\n",
        "    WandbCallback(log_preds=True, log_preds_every_epoch=True, log_model=True),\n",
        "]\n",
        "\n",
        "other_cbs = [\n",
        "]\n",
        "\n",
        "\n",
        "def equirectangular_rmse(preds, targets):\n",
        "    loss_func = EquirectangularDistanceLoss()\n",
        "    distance = loss_func(preds, targets)\n",
        "    return torch.sqrt(distance)\n",
        "\n",
        "def equirectangular_mae(preds, targets):\n",
        "    loss_func = EquirectangularDistanceLoss()\n",
        "    distance = loss_func(preds, targets)\n",
        "    return distance\n",
        "\n",
        "learn = vision_learner(\n",
        "    dls,\n",
        "    config.model_name,\n",
        "    metrics=[equirectangular_rmse, equirectangular_mae],\n",
        "    concat_pool=True,\n",
        "    cbs=train_cbs,\n",
        "    # loss_func=EquirectangularDistanceLoss()\n",
        ").to_fp16()\n",
        "\n",
        "learn.model.to(device)\n",
        "None"
      ]
    },
    {
      "cell_type": "code",
      "source": [
        "learn.loss_func"
      ],
      "metadata": {
        "id": "pHzQDD_MZCY1",
        "outputId": "cc946048-6bbb-4295-d8a3-c04f2e4cd966",
        "colab": {
          "base_uri": "https://localhost:8080/"
        }
      },
      "execution_count": null,
      "outputs": [
        {
          "output_type": "execute_result",
          "data": {
            "text/plain": [
              "FlattenedLoss of MSELoss()"
            ]
          },
          "metadata": {},
          "execution_count": 39
        }
      ]
    },
    {
      "cell_type": "code",
      "source": [
        "# learn.cbs[-2].fname"
      ],
      "metadata": {
        "id": "9ppnXnjZdYDi"
      },
      "execution_count": null,
      "outputs": []
    },
    {
      "cell_type": "code",
      "execution_count": null,
      "metadata": {
        "id": "UCWP1g0Mslgw"
      },
      "outputs": [],
      "source": [
        "def wandb_init():\n",
        "    wandb.login()\n",
        "\n",
        "wandb_init()"
      ]
    },
    {
      "cell_type": "code",
      "source": [
        "\"\"\"path='/content/geolocation/models/model.pth'\n",
        "path = Path(path)\n",
        "if not path.is_file():\n",
        "    raise f'path must be a valid file: {path}'\n",
        "name = None\n",
        "name = ifnone(name, f'run-{wandb.run.id}-model')\n",
        "_format_metadata(metadata)    \n",
        "artifact_model = wandb.Artifact(name=name, type='model', metadata=metadata, description=description)\n",
        "with artifact_model.new_file(str(Path(name).with_suffix(\".pth\")), mode='wb') as fa:\n",
        "    fa.write(path.read_bytes())\n",
        "wandb.run.log_artifact(artifact_model)\n",
        "\"\"\""
      ],
      "metadata": {
        "colab": {
          "base_uri": "https://localhost:8080/",
          "height": 88
        },
        "id": "mfap3_E8eLSu",
        "outputId": "a8464fb7-abff-4e7f-901d-f7e771879995"
      },
      "execution_count": null,
      "outputs": [
        {
          "output_type": "execute_result",
          "data": {
            "text/plain": [
              "'path=\\'/content/geolocation/models/model.pth\\'\\npath = Path(path)\\nif not path.is_file():\\n    raise f\\'path must be a valid file: {path}\\'\\nname = None\\nname = ifnone(name, f\\'run-{wandb.run.id}-model\\')\\n_format_metadata(metadata)    \\nartifact_model = wandb.Artifact(name=name, type=\\'model\\', metadata=metadata, description=description)\\nwith artifact_model.new_file(str(Path(name).with_suffix(\".pth\")), mode=\\'wb\\') as fa:\\n    fa.write(path.read_bytes())\\nwandb.run.log_artifact(artifact_model)\\n'"
            ],
            "application/vnd.google.colaboratory.intrinsic+json": {
              "type": "string"
            }
          },
          "metadata": {},
          "execution_count": 35
        }
      ]
    },
    {
      "cell_type": "code",
      "execution_count": null,
      "metadata": {
        "colab": {
          "base_uri": "https://localhost:8080/",
          "height": 1000
        },
        "id": "7ax5PAarmGi3",
        "outputId": "47db5087-637f-4bc0-c72a-b2c1cb2cddc4"
      },
      "outputs": [
        {
          "output_type": "display_data",
          "data": {
            "text/plain": [
              "<IPython.core.display.HTML object>"
            ],
            "text/html": [
              "Tracking run with wandb version 0.15.1"
            ]
          },
          "metadata": {}
        },
        {
          "output_type": "display_data",
          "data": {
            "text/plain": [
              "<IPython.core.display.HTML object>"
            ],
            "text/html": [
              "Run data is saved locally in <code>/content/wandb/run-20230504_005622-4d6uu2ms</code>"
            ]
          },
          "metadata": {}
        },
        {
          "output_type": "display_data",
          "data": {
            "text/plain": [
              "<IPython.core.display.HTML object>"
            ],
            "text/html": [
              "Syncing run <strong><a href='https://wandb.ai/ben_z/geolocation/runs/4d6uu2ms' target=\"_blank\">star-lightsaber-87</a></strong> to <a href='https://wandb.ai/ben_z/geolocation' target=\"_blank\">Weights & Biases</a> (<a href='https://wandb.me/run' target=\"_blank\">docs</a>)<br/>"
            ]
          },
          "metadata": {}
        },
        {
          "output_type": "display_data",
          "data": {
            "text/plain": [
              "<IPython.core.display.HTML object>"
            ],
            "text/html": [
              " View project at <a href='https://wandb.ai/ben_z/geolocation' target=\"_blank\">https://wandb.ai/ben_z/geolocation</a>"
            ]
          },
          "metadata": {}
        },
        {
          "output_type": "display_data",
          "data": {
            "text/plain": [
              "<IPython.core.display.HTML object>"
            ],
            "text/html": [
              " View run at <a href='https://wandb.ai/ben_z/geolocation/runs/4d6uu2ms' target=\"_blank\">https://wandb.ai/ben_z/geolocation/runs/4d6uu2ms</a>"
            ]
          },
          "metadata": {}
        },
        {
          "output_type": "stream",
          "name": "stdout",
          "text": [
            "Finding optimal learning rate\n",
            "Creating learner for resnet18\n"
          ]
        },
        {
          "output_type": "display_data",
          "data": {
            "text/plain": [
              "<IPython.core.display.HTML object>"
            ],
            "text/html": [
              "\n",
              "<style>\n",
              "    /* Turns off some styling */\n",
              "    progress {\n",
              "        /* gets rid of default border in Firefox and Opera. */\n",
              "        border: none;\n",
              "        /* Needs to be in here for Safari polyfill so background images work as expected. */\n",
              "        background-size: auto;\n",
              "    }\n",
              "    progress:not([value]), progress:not([value])::-webkit-progress-bar {\n",
              "        background: repeating-linear-gradient(45deg, #7e7e7e, #7e7e7e 10px, #5c5c5c 10px, #5c5c5c 20px);\n",
              "    }\n",
              "    .progress-bar-interrupted, .progress-bar-interrupted::-webkit-progress-bar {\n",
              "        background: #F44336;\n",
              "    }\n",
              "</style>\n"
            ]
          },
          "metadata": {}
        },
        {
          "output_type": "display_data",
          "data": {
            "text/plain": [
              "<IPython.core.display.HTML object>"
            ],
            "text/html": [
              "<table border=\"1\" class=\"dataframe\">\n",
              "  <thead>\n",
              "    <tr style=\"text-align: left;\">\n",
              "      <th>epoch</th>\n",
              "      <th>train_loss</th>\n",
              "      <th>valid_loss</th>\n",
              "      <th>equirectangular_rmse</th>\n",
              "      <th>equirectangular_mae</th>\n",
              "      <th>time</th>\n",
              "    </tr>\n",
              "  </thead>\n",
              "  <tbody>\n",
              "    <tr>\n",
              "      <td>0</td>\n",
              "      <td>10953.534180</td>\n",
              "      <td>10963.639648</td>\n",
              "      <td>104.707275</td>\n",
              "      <td>10963.639648</td>\n",
              "      <td>00:21</td>\n",
              "    </tr>\n",
              "    <tr>\n",
              "      <td>1</td>\n",
              "      <td>10631.515625</td>\n",
              "      <td>10271.625977</td>\n",
              "      <td>101.348900</td>\n",
              "      <td>10271.625977</td>\n",
              "      <td>00:23</td>\n",
              "    </tr>\n",
              "    <tr>\n",
              "      <td>2</td>\n",
              "      <td>8054.400391</td>\n",
              "      <td>7131.708008</td>\n",
              "      <td>84.444817</td>\n",
              "      <td>7131.708008</td>\n",
              "      <td>00:22</td>\n",
              "    </tr>\n",
              "    <tr>\n",
              "      <td>3</td>\n",
              "      <td>3814.772949</td>\n",
              "      <td>2164.170898</td>\n",
              "      <td>46.498631</td>\n",
              "      <td>2164.170898</td>\n",
              "      <td>00:22</td>\n",
              "    </tr>\n",
              "    <tr>\n",
              "      <td>4</td>\n",
              "      <td>1080.187134</td>\n",
              "      <td>296.381470</td>\n",
              "      <td>17.206034</td>\n",
              "      <td>296.381470</td>\n",
              "      <td>00:22</td>\n",
              "    </tr>\n",
              "    <tr>\n",
              "      <td>5</td>\n",
              "      <td>754.438721</td>\n",
              "      <td>271.126129</td>\n",
              "      <td>16.456560</td>\n",
              "      <td>271.126129</td>\n",
              "      <td>00:22</td>\n",
              "    </tr>\n",
              "    <tr>\n",
              "      <td>6</td>\n",
              "      <td>700.379822</td>\n",
              "      <td>299.063782</td>\n",
              "      <td>17.259924</td>\n",
              "      <td>299.063782</td>\n",
              "      <td>00:22</td>\n",
              "    </tr>\n",
              "    <tr>\n",
              "      <td>7</td>\n",
              "      <td>660.482483</td>\n",
              "      <td>275.092926</td>\n",
              "      <td>16.566517</td>\n",
              "      <td>275.092926</td>\n",
              "      <td>00:22</td>\n",
              "    </tr>\n",
              "    <tr>\n",
              "      <td>8</td>\n",
              "      <td>642.158691</td>\n",
              "      <td>268.912598</td>\n",
              "      <td>16.386358</td>\n",
              "      <td>268.912598</td>\n",
              "      <td>00:22</td>\n",
              "    </tr>\n",
              "    <tr>\n",
              "      <td>9</td>\n",
              "      <td>637.327332</td>\n",
              "      <td>269.476166</td>\n",
              "      <td>16.401300</td>\n",
              "      <td>269.476166</td>\n",
              "      <td>00:21</td>\n",
              "    </tr>\n",
              "  </tbody>\n",
              "</table>"
            ]
          },
          "metadata": {}
        },
        {
          "output_type": "stream",
          "name": "stdout",
          "text": [
            "Better model found at epoch 0 with valid_loss value: 10963.6396484375.\n",
            "Better model found at epoch 1 with valid_loss value: 10271.6259765625.\n",
            "Better model found at epoch 2 with valid_loss value: 7131.7080078125.\n",
            "Better model found at epoch 3 with valid_loss value: 2164.1708984375.\n",
            "Better model found at epoch 4 with valid_loss value: 296.3814697265625.\n",
            "Better model found at epoch 5 with valid_loss value: 271.1261291503906.\n",
            "Better model found at epoch 8 with valid_loss value: 268.91259765625.\n"
          ]
        },
        {
          "output_type": "display_data",
          "data": {
            "text/plain": [
              "<IPython.core.display.HTML object>"
            ],
            "text/html": [
              "Waiting for W&B process to finish... <strong style=\"color:green\">(success).</strong>"
            ]
          },
          "metadata": {}
        },
        {
          "output_type": "display_data",
          "data": {
            "text/plain": [
              "<IPython.core.display.HTML object>"
            ],
            "text/html": [
              "<style>\n",
              "    table.wandb td:nth-child(1) { padding: 0 10px; text-align: left ; width: auto;} td:nth-child(2) {text-align: left ; width: 100%}\n",
              "    .wandb-row { display: flex; flex-direction: row; flex-wrap: wrap; justify-content: flex-start; width: 100% }\n",
              "    .wandb-col { display: flex; flex-direction: column; flex-basis: 100%; flex: 1; padding: 10px; }\n",
              "    </style>\n",
              "<div class=\"wandb-row\"><div class=\"wandb-col\"><h3>Run history:</h3><br/><table class=\"wandb\"><tr><td>epoch</td><td>▁▁▁▁▂▂▂▂▂▃▃▃▃▃▃▄▄▄▄▄▅▅▅▅▅▅▆▆▆▆▆▇▇▇▇▇▇███</td></tr><tr><td>eps_0</td><td>▁▁▁▁▁▁▁▁▁▁▁▁▁▁▁▁▁▁▁▁▁▁▁▁▁▁▁▁▁▁▁▁▁▁▁▁▁▁▁▁</td></tr><tr><td>eps_1</td><td>▁▁▁▁▁▁▁▁▁▁▁▁▁▁▁▁▁▁▁▁▁▁▁▁▁▁▁▁▁▁▁▁▁▁▁▁▁▁▁▁</td></tr><tr><td>equirectangular_mae</td><td>██▅▂▁▁▁▁▁▁</td></tr><tr><td>equirectangular_rmse</td><td>██▆▃▁▁▁▁▁▁</td></tr><tr><td>lr_0</td><td>▁▁▂▃▄▅▆▇▇██████▇▇▇▇▆▆▆▅▅▅▄▄▄▃▃▃▂▂▂▂▁▁▁▁▁</td></tr><tr><td>lr_1</td><td>▁▁▂▃▄▅▆▇▇██████▇▇▇▇▆▆▆▅▅▅▄▄▄▃▃▃▂▂▂▂▁▁▁▁▁</td></tr><tr><td>mom_0</td><td>██▇▇▆▄▃▂▂▁▁▁▁▁▁▂▂▂▂▃▃▃▄▄▄▅▅▅▆▆▆▇▇▇▇█████</td></tr><tr><td>mom_1</td><td>██▇▇▆▄▃▂▂▁▁▁▁▁▁▂▂▂▂▃▃▃▄▄▄▅▅▅▆▆▆▇▇▇▇█████</td></tr><tr><td>raw_loss</td><td>█████████▇▆▆▅▄▃▃▂▁▁▁▁▁▁▁▁▁▁▁▁▁▁▁▁▁▁▁▁▁▁▁</td></tr><tr><td>sqr_mom_0</td><td>▁▁▁▁▁▁▁▁▁▁▁▁▁▁▁▁▁▁▁▁▁▁▁▁▁▁▁▁▁▁▁▁▁▁▁▁▁▁▁▁</td></tr><tr><td>sqr_mom_1</td><td>▁▁▁▁▁▁▁▁▁▁▁▁▁▁▁▁▁▁▁▁▁▁▁▁▁▁▁▁▁▁▁▁▁▁▁▁▁▁▁▁</td></tr><tr><td>train_loss</td><td>█████████▇▇▇▆▅▄▄▃▂▂▁▁▁▁▁▁▁▁▁▁▁▁▁▁▁▁▁▁▁▁▁</td></tr><tr><td>train_samples_per_sec</td><td>▂▄▆▃▅▂▆▃▂▂▄▂▄▁▂▆▂▄▃▅▂▆▃▆▄▂▂▆▃▂▂▆▁▂▂█▂▂▁█</td></tr><tr><td>valid_loss</td><td>██▅▂▁▁▁▁▁▁</td></tr><tr><td>wd_0</td><td>▁▁▁▁▁▁▁▁▁▁▁▁▁▁▁▁▁▁▁▁▁▁▁▁▁▁▁▁▁▁▁▁▁▁▁▁▁▁▁▁</td></tr><tr><td>wd_1</td><td>▁▁▁▁▁▁▁▁▁▁▁▁▁▁▁▁▁▁▁▁▁▁▁▁▁▁▁▁▁▁▁▁▁▁▁▁▁▁▁▁</td></tr></table><br/></div><div class=\"wandb-col\"><h3>Run summary:</h3><br/><table class=\"wandb\"><tr><td>epoch</td><td>10</td></tr><tr><td>eps_0</td><td>1e-05</td></tr><tr><td>eps_1</td><td>1e-05</td></tr><tr><td>equirectangular_mae</td><td>269.47617</td></tr><tr><td>equirectangular_rmse</td><td>16.4013</td></tr><tr><td>fit_time</td><td>320.56399</td></tr><tr><td>lr_0</td><td>0.0</td></tr><tr><td>lr_1</td><td>0.0</td></tr><tr><td>mom_0</td><td>0.95</td></tr><tr><td>mom_1</td><td>0.95</td></tr><tr><td>raw_loss</td><td>601.42883</td></tr><tr><td>sqr_mom_0</td><td>0.99</td></tr><tr><td>sqr_mom_1</td><td>0.99</td></tr><tr><td>train_loss</td><td>637.32733</td></tr><tr><td>train_samples_per_sec</td><td>1624.45965</td></tr><tr><td>valid_loss</td><td>269.47617</td></tr><tr><td>wd_0</td><td>0.01</td></tr><tr><td>wd_1</td><td>0.01</td></tr></table><br/></div></div>"
            ]
          },
          "metadata": {}
        },
        {
          "output_type": "display_data",
          "data": {
            "text/plain": [
              "<IPython.core.display.HTML object>"
            ],
            "text/html": [
              " View run <strong style=\"color:#cdcd00\">star-lightsaber-87</strong> at: <a href='https://wandb.ai/ben_z/geolocation/runs/4d6uu2ms' target=\"_blank\">https://wandb.ai/ben_z/geolocation/runs/4d6uu2ms</a><br/>Synced 5 W&B file(s), 1080 media file(s), 1 artifact file(s) and 0 other file(s)"
            ]
          },
          "metadata": {}
        },
        {
          "output_type": "display_data",
          "data": {
            "text/plain": [
              "<IPython.core.display.HTML object>"
            ],
            "text/html": [
              "Find logs at: <code>./wandb/run-20230504_005622-4d6uu2ms/logs</code>"
            ]
          },
          "metadata": {}
        }
      ],
      "source": [
        "with wandb.init(config=config, project=\"geolocation\"):\n",
        "    # log_model('model.pth')\n",
        "    print(f\"Finding optimal learning rate\")\n",
        "    # lrs = learn.lr_find()\n",
        "    # lr = 0.002511886414140463\n",
        "    # lr = lrs.valley\n",
        "\n",
        "    print(f\"Creating learner for {config.model_name}\")\n",
        "    # print(f\"Learning rate = {lr}\")\n",
        "    ti = time.perf_counter()\n",
        "    # learn.fine_tune(base_lr=lr, epochs=config.epochs)\n",
        "    learn.unfreeze()\n",
        "    learn.fit_one_cycle(config.epochs)\n",
        "    wandb.summary[\"fit_time\"] = time.perf_counter() - ti"
      ]
    },
    {
      "cell_type": "code",
      "source": [
        "wandb.init()"
      ],
      "metadata": {
        "id": "-AdNHet6Maht"
      },
      "execution_count": null,
      "outputs": []
    },
    {
      "cell_type": "code",
      "execution_count": null,
      "metadata": {
        "id": "oCkNIdqLGPD1"
      },
      "outputs": [],
      "source": [
        "learn.show_results()"
      ]
    },
    {
      "cell_type": "code",
      "execution_count": null,
      "metadata": {
        "id": "L8gnIzqwGTn8"
      },
      "outputs": [],
      "source": [
        "interp = ClassificationInterpretation.from_learner(learn)"
      ]
    },
    {
      "cell_type": "code",
      "execution_count": null,
      "metadata": {
        "id": "HQJzyqghHueh"
      },
      "outputs": [],
      "source": [
        "learn.dls.c"
      ]
    },
    {
      "cell_type": "code",
      "execution_count": null,
      "metadata": {
        "id": "581MQPuEDfLv"
      },
      "outputs": [],
      "source": [
        "interp.plot_top_losses(10)"
      ]
    },
    {
      "cell_type": "code",
      "execution_count": null,
      "metadata": {
        "id": "uM7QaXHEEcM1"
      },
      "outputs": [],
      "source": [
        "interp.plot_confusion_matrix(figsize=(15,15), dpi=60)"
      ]
    },
    {
      "cell_type": "code",
      "execution_count": null,
      "metadata": {
        "id": "WozQkDo3G998",
        "colab": {
          "base_uri": "https://localhost:8080/"
        },
        "outputId": "252bb2b7-b01a-4133-aeaf-f8c000bb01a9"
      },
      "outputs": [
        {
          "output_type": "execute_result",
          "data": {
            "text/plain": [
              "EquirectangularDistanceLoss()"
            ]
          },
          "metadata": {},
          "execution_count": 37
        }
      ],
      "source": [
        "learn.loss_func"
      ]
    },
    {
      "cell_type": "code",
      "source": [],
      "metadata": {
        "id": "_Dn-pCrBYgqP"
      },
      "execution_count": null,
      "outputs": []
    }
  ],
  "metadata": {
    "colab": {
      "provenance": [],
      "authorship_tag": "ABX9TyNXjXV+jU5EeydJYZWpFQTT"
    },
    "gpuClass": "premium",
    "kernelspec": {
      "display_name": "Python 3",
      "name": "python3"
    },
    "language_info": {
      "name": "python"
    },
    "accelerator": "GPU"
  },
  "nbformat": 4,
  "nbformat_minor": 0
}